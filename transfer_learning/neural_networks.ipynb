{
 "cells": [
  {
   "cell_type": "markdown",
   "metadata": {},
   "source": [
    "# [Transfer Learning](https://en.wikipedia.org/wiki/Transfer_learning)\n",
    "\n",
    "### What is it?\n",
    "A ML framework for using already trained model from Task 1 to solve Ttask 2.\n",
    "\n",
    "### When do I use it?\n",
    "When I want to train Computer Vision / NLP model and I:\n",
    "* do not have much data\n",
    "* do not have much computing power\n",
    "* do not have much expertise in the field\n",
    "\n",
    "### Why should I NOT use it?\n",
    "There could exist quite cheap 3rd party service for my application from AWS etc."
   ]
  },
  {
   "cell_type": "markdown",
   "metadata": {},
   "source": [
    "# How does it work?"
   ]
  },
  {
   "cell_type": "markdown",
   "metadata": {},
   "source": [
    "# Neureal Nets 2"
   ]
  },
  {
   "cell_type": "markdown",
   "metadata": {},
   "source": [
    "Y'all remember the old Multi Layer Perceptron with flatten pixel vector on input..."
   ]
  },
  {
   "cell_type": "markdown",
   "metadata": {},
   "source": [
    "## Multi Layer Perceptron img\n",
    "<img src=\"nn_example.png\" alt=\"Drawing\" style=\"width: 600px;\"/>"
   ]
  },
  {
   "cell_type": "markdown",
   "metadata": {},
   "source": [
    "Thats not really what is used right now..."
   ]
  },
  {
   "cell_type": "markdown",
   "metadata": {},
   "source": [
    "# Convolutional Neural Nets\n",
    "\n",
    "An Nural Network design which enables for spatial relations of pixels (edges, curvatures, ...) to figure in the model."
   ]
  },
  {
   "cell_type": "markdown",
   "metadata": {},
   "source": [
    "## Convolution\n",
    "\n",
    "#### Math definition:\n",
    "<img src=\"convolution.png\" alt=\"Drawing\" style=\"width: 300px;\"/>\n",
    "\n",
    "#### Meaning:\n",
    "Integral is basicaly a sum in continuous world => **Convolution is basicaly averaging** function f by a kernel function g\n",
    "\n",
    "#### In 2D image:\n",
    "Convolution is just averaging the picture by a small frame.\n",
    "<img src=\"convolution2.png\" alt=\"Drawing\" style=\"width: 300px;\"/>"
   ]
  },
  {
   "cell_type": "markdown",
   "metadata": {},
   "source": [
    "#### Example: Sobel kernel \n",
    "(-1,0,1) \\\n",
    "(-2,0,2) \\\n",
    "(-1,0,1)\n",
    "\n",
    "Enhances edges:\n",
    "\n",
    "<img src=\"applying-sobel-kernel.png\" alt=\"Drawing\" style=\"width: 700px;\"/>"
   ]
  },
  {
   "cell_type": "markdown",
   "metadata": {},
   "source": [
    "## Pooling\n",
    "\n",
    "Is sliding kernel operation for size reduction (pretty much like convolution). Average or Max pooling is used."
   ]
  },
  {
   "cell_type": "markdown",
   "metadata": {},
   "source": [
    "## CNN design\n",
    "\n",
    "<img src=\"cnn_schema.png\" alt=\"Drawing\" style=\"width: 900px;\"/>"
   ]
  },
  {
   "cell_type": "markdown",
   "metadata": {},
   "source": [
    "#### Google's Inception V3 model to ilustrate complexity\n",
    "\n",
    "<img src=\"inception_v3_architecture.png\" alt=\"Drawing\" style=\"width: 900px;\"/>"
   ]
  },
  {
   "cell_type": "markdown",
   "metadata": {},
   "source": [
    "## Can we hack it? => Yes, Transfer learning!"
   ]
  },
  {
   "cell_type": "markdown",
   "metadata": {},
   "source": [
    "# Transfer learning\n"
   ]
  },
  {
   "cell_type": "markdown",
   "metadata": {},
   "source": [
    "Some companies share their fine tuned models trained on dataset like ImageNet with **thousands** of general classes (eg. snake, locomotive, hourglass, ...) which would take days to train.\n",
    "\n",
    "#### The idea is to: \n",
    "* **Remove last layer of trained model.** \n",
    "* **Keep the complex part, generating magic features.**\n",
    "* **Retrain the last part of the net only (eg. with plain shallow NN).**\n",
    "\n",
    "<img src=\"transfer_learning.png\" alt=\"Drawing\" style=\"width: 600px;\"/>"
   ]
  },
  {
   "cell_type": "markdown",
   "metadata": {},
   "source": [
    "#### This model will be trained in fraction of time and will perform reasonably good even with small amount of training data."
   ]
  },
  {
   "cell_type": "markdown",
   "metadata": {},
   "source": [
    "## Example with Keras:"
   ]
  },
  {
   "cell_type": "code",
   "execution_count": null,
   "metadata": {},
   "outputs": [],
   "source": [
    "from tensorflow.python.keras.applications import ResNet50\n",
    "from tensorflow.python.keras.models import Sequential\n",
    "from tensorflow.python.keras.layers import Dense, Flatten, GlobalAveragePooling2D\n",
    "from tensorflow.python.keras.applications.resnet50 import preprocess_input\n",
    "from tensorflow.python.keras.preprocessing.image import ImageDataGenerator\n",
    "\n",
    "# Retrain ResNet model for 2 classes\n",
    "# get resnet50 from https://github.com/fchollet/deep-learning-models/releases/download/v0.2/resnet50_weights_tf_dim_ordering_tf_kernels_notop.h5\n",
    "num_classes = 2\n",
    "resnet_weights_path = '../input/resnet50/resnet50_weights_tf_dim_ordering_tf_kernels_notop.h5'\n",
    "\n",
    "my_new_model = Sequential()\n",
    "# add model with already trained weights\n",
    "my_new_model.add(ResNet50(include_top=False, pooling='avg', weights=resnet_weights_path))\n",
    "# add shallow which we will train\n",
    "my_new_model.add(Dense(num_classes, activation='softmax'))\n",
    "\n",
    "# Disable to train first layer (ResNet) model. It is already trained\n",
    "my_new_model.layers[0].trainable = False"
   ]
  },
  {
   "cell_type": "code",
   "execution_count": null,
   "metadata": {},
   "outputs": [],
   "source": [
    "# Compile TF model\n",
    "my_new_model.compile(optimizer='sgd', loss='categorical_crossentropy', metrics=['accuracy'])"
   ]
  },
  {
   "cell_type": "code",
   "execution_count": null,
   "metadata": {},
   "outputs": [],
   "source": [
    "image_size = 224\n",
    "data_generator = ImageDataGenerator(preprocessing_function=preprocess_input)\n",
    "\n",
    "# add new training data - rural / urban photos\n",
    "train_generator = data_generator.flow_from_directory(\n",
    "        '../input/urban-and-rural-photos/rural_and_urban_photos/train',\n",
    "        target_size=(image_size, image_size),\n",
    "        batch_size=24,\n",
    "        class_mode='categorical')\n",
    "\n",
    "# add validation data\n",
    "validation_generator = data_generator.flow_from_directory(\n",
    "        '../input/urban-and-rural-photos/rural_and_urban_photos/val',\n",
    "        target_size=(image_size, image_size),\n",
    "        class_mode='categorical')\n",
    "\n",
    "# fit the new model\n",
    "my_new_model.fit_generator(\n",
    "        train_generator,\n",
    "        steps_per_epoch=3,\n",
    "        validation_data=validation_generator,\n",
    "        validation_steps=1)"
   ]
  },
  {
   "cell_type": "markdown",
   "metadata": {},
   "source": [
    "## Sources\n",
    "[Convolution Nets](https://towardsdatascience.com/a-comprehensive-guide-to-convolutional-neural-networks-the-eli5-way-3bd2b1164a53)\n",
    "\n",
    "[Wiki - Transfer Learning](https://en.wikipedia.org/wiki/Transfer_learning)\n",
    "\n",
    "[TF - retrain.py example](https://www.tensorflow.org/hub/tutorials/image_retraining)\n",
    "\n",
    "[Transfer Learning blogpost](https://towardsdatascience.com/a-comprehensive-hands-on-guide-to-transfer-learning-with-real-world-applications-in-deep-learning-212bf3b2f27a)\n",
    "\n",
    "[Inception V3 model](https://github.com/tensorflow/models/tree/master/research/inception)"
   ]
  }
 ],
 "metadata": {
  "kernelspec": {
   "display_name": "Python 3",
   "language": "python",
   "name": "python3"
  },
  "language_info": {
   "codemirror_mode": {
    "name": "ipython",
    "version": 3
   },
   "file_extension": ".py",
   "mimetype": "text/x-python",
   "name": "python",
   "nbconvert_exporter": "python",
   "pygments_lexer": "ipython3",
   "version": "3.6.4"
  }
 },
 "nbformat": 4,
 "nbformat_minor": 2
}
